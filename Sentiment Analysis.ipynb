{
 "cells": [
  {
   "cell_type": "markdown",
   "metadata": {},
   "source": [
    "# Sentiment Analysis using a Deep Neural Network"
   ]
  },
  {
   "cell_type": "markdown",
   "metadata": {},
   "source": [
    "#### Feature Extraction"
   ]
  },
  {
   "cell_type": "markdown",
   "metadata": {},
   "source": [
    "*(sfrees) Reference: The following code was adapted from MiniAssignment10KerasPOS.ipynb*"
   ]
  },
  {
   "cell_type": "code",
   "execution_count": 12,
   "metadata": {},
   "outputs": [],
   "source": [
    "def add_basic_features(text):\n",
    "    \"\"\" Compute some text features.\n",
    "\n",
    "        :param text: text on which we are selecting features \n",
    "        :type text: string\n",
    "        :return: dict containing features\n",
    "        :rtype: dict\n",
    "    \"\"\"\n",
    "    \n",
    "    # ==== TODO: Change these from word features to full text features! ====\n",
    "    return {\n",
    "        'nb_terms': len(sentence_terms),\n",
    "        'term': term,\n",
    "        'is_first': index == 0,\n",
    "        'is_last': index == len(sentence_terms) - 1,\n",
    "        'is_capitalized': term[0].upper() == term[0],\n",
    "        'is_all_caps': term.upper() == term,\n",
    "        'is_all_lower': term.lower() == term,\n",
    "        'prefix-1': term[0],\n",
    "        'prefix-2': term[:2],\n",
    "        'prefix-3': term[:3],\n",
    "        'suffix-1': term[-1],\n",
    "        'suffix-2': term[-2:],\n",
    "        'suffix-3': term[-3:],\n",
    "        'prev_word': '' if index == 0 else sentence_terms[index - 1],\n",
    "        'next_word': '' if index == len(sentence_terms) - 1 else sentence_terms[index + 1]\n",
    "    }\n",
    "    # =======================================================================\n",
    "\n",
    "def transform_to_dataset(labeled_texts):\n",
    "    \"\"\"\n",
    "    Split labeled texts to X and y datasets and append some basic features.\n",
    "\n",
    "    :param labeled_texts: a list of sentiment-labled texts\n",
    "    :param labeled_texts: list of list of tuples (text_i, label_i)\n",
    "    :return: \n",
    "    \"\"\"\n",
    "    X, y = [], []\n",
    "\n",
    "    for text_sentiment in labeled_texts:\n",
    "        # Add basic NLP features for each text\n",
    "        X.append(add_basic_features(text_sentiment[0]))\n",
    "        y.append(text_sentiment[1])\n",
    "    return X, y\n",
    "\n",
    "def identify_labels(raw_texts):\n",
    "    \"\"\"\n",
    "    Parse each text to identify its label and text portion.\n",
    "    \n",
    "    :param raw_texts: a list of raw lines from the input file\n",
    "    :return: a list of tuples (text, label)\n",
    "    \"\"\"\n",
    "    out = []\n",
    "    for t in raw_texts:\n",
    "        split = t.split('\\t')\n",
    "        if len(split) < 3:\n",
    "            print(split)\n",
    "            continue\n",
    "        out.append((split[2], split[1]))\n",
    "        \n",
    "    return out"
   ]
  },
  {
   "cell_type": "markdown",
   "metadata": {},
   "source": [
    "#### Vectorizing Features"
   ]
  },
  {
   "cell_type": "markdown",
   "metadata": {},
   "source": [
    "*(sfrees) Reference: The following is based on code taken from NLP Assignment 2*"
   ]
  },
  {
   "cell_type": "code",
   "execution_count": 20,
   "metadata": {},
   "outputs": [],
   "source": [
    "from sklearn.feature_extraction import DictVectorizer\n",
    "from sklearn.preprocessing import LabelEncoder\n",
    "#from keras.utils import np_utils\n",
    "\n",
    "dict_vectorizer = DictVectorizer(sparse=False)\n",
    "label_encoder = LabelEncoder()\n",
    "\n",
    "def processData(texts, verbose=False):\n",
    "    \n",
    "    if verbose:\n",
    "        print(\"Transform to dataset\")\n",
    "\n",
    "    X_data, y_data = transform_to_dataset(texts)\n",
    "\n",
    "    if verbose:\n",
    "        print('Vectorize features')\n",
    "\n",
    "    dict_vectorizer.fit(X_data)\n",
    "    X_data = dict_vectorizer.transform(X_data)\n",
    "\n",
    "    if verbose:\n",
    "        print('Encode classes')\n",
    "        \n",
    "    label_encoder.fit(y_data)\n",
    "    y_data = label_encoder.transform(y_data)\n",
    "    \n",
    "    return X_data, y_data\n",
    "\n",
    "\n",
    "def prepForPrediction(texts):\n",
    "    X = []\n",
    "    for t in texts:\n",
    "        X.append(add_basic_features(t))\n",
    "    return dict_vectorizer.transform(X)\n"
   ]
  },
  {
   "cell_type": "markdown",
   "metadata": {},
   "source": [
    "### Loading and Processing Data"
   ]
  },
  {
   "cell_type": "code",
   "execution_count": 21,
   "metadata": {},
   "outputs": [
    {
     "name": "stdout",
     "output_type": "stream",
     "text": [
      "Transform to dataset\n"
     ]
    },
    {
     "ename": "NameError",
     "evalue": "name 'sentence_terms' is not defined",
     "output_type": "error",
     "traceback": [
      "\u001b[1;31m---------------------------------------------------------------------------\u001b[0m",
      "\u001b[1;31mNameError\u001b[0m                                 Traceback (most recent call last)",
      "\u001b[1;32m<ipython-input-21-146aafea8765>\u001b[0m in \u001b[0;36m<module>\u001b[1;34m()\u001b[0m\n\u001b[0;32m     23\u001b[0m \u001b[1;32massert\u001b[0m \u001b[0mlen\u001b[0m\u001b[1;33m(\u001b[0m\u001b[0mdata_labeled\u001b[0m\u001b[1;33m)\u001b[0m \u001b[1;33m==\u001b[0m \u001b[1;33m(\u001b[0m\u001b[0mnum_train\u001b[0m\u001b[1;33m+\u001b[0m\u001b[0mnum_test\u001b[0m\u001b[1;33m)\u001b[0m \u001b[1;33m,\u001b[0m \u001b[1;34m\"Data lost during labeling process: %d / %d\"\u001b[0m \u001b[1;33m%\u001b[0m \u001b[1;33m(\u001b[0m\u001b[0mlen\u001b[0m\u001b[1;33m(\u001b[0m\u001b[0mdata_labeled\u001b[0m\u001b[1;33m)\u001b[0m\u001b[1;33m,\u001b[0m \u001b[0mnum_train\u001b[0m\u001b[1;33m+\u001b[0m\u001b[0mnum_test\u001b[0m\u001b[1;33m)\u001b[0m\u001b[1;33m\u001b[0m\u001b[0m\n\u001b[0;32m     24\u001b[0m \u001b[1;33m\u001b[0m\u001b[0m\n\u001b[1;32m---> 25\u001b[1;33m \u001b[0mdata_X\u001b[0m\u001b[1;33m,\u001b[0m \u001b[0mdata_y\u001b[0m \u001b[1;33m=\u001b[0m \u001b[0mprocessData\u001b[0m\u001b[1;33m(\u001b[0m\u001b[0mdata_labeled\u001b[0m\u001b[1;33m,\u001b[0m \u001b[1;32mTrue\u001b[0m\u001b[1;33m)\u001b[0m\u001b[1;33m\u001b[0m\u001b[0m\n\u001b[0m\u001b[0;32m     26\u001b[0m \u001b[1;33m\u001b[0m\u001b[0m\n\u001b[0;32m     27\u001b[0m \u001b[1;32massert\u001b[0m \u001b[0mlen\u001b[0m\u001b[1;33m(\u001b[0m\u001b[0mdata_X\u001b[0m\u001b[1;33m)\u001b[0m\u001b[1;33m+\u001b[0m\u001b[0mlen\u001b[0m\u001b[1;33m(\u001b[0m\u001b[0mdata_y\u001b[0m\u001b[1;33m)\u001b[0m \u001b[1;33m==\u001b[0m \u001b[1;33m(\u001b[0m\u001b[0mnum_train\u001b[0m\u001b[1;33m+\u001b[0m\u001b[0mnum_test\u001b[0m\u001b[1;33m)\u001b[0m \u001b[1;33m,\u001b[0m \u001b[1;34m\"Data lost data processing. %d / %d\"\u001b[0m \u001b[1;33m%\u001b[0m \u001b[1;33m(\u001b[0m\u001b[0mlen\u001b[0m\u001b[1;33m(\u001b[0m\u001b[0mdata_X\u001b[0m\u001b[1;33m)\u001b[0m\u001b[1;33m+\u001b[0m\u001b[0mlen\u001b[0m\u001b[1;33m(\u001b[0m\u001b[0mdata_y\u001b[0m\u001b[1;33m)\u001b[0m\u001b[1;33m,\u001b[0m \u001b[0mnum_train\u001b[0m\u001b[1;33m+\u001b[0m\u001b[0mnum_test\u001b[0m\u001b[1;33m)\u001b[0m\u001b[1;33m\u001b[0m\u001b[0m\n",
      "\u001b[1;32m<ipython-input-20-e2bc512d5e9e>\u001b[0m in \u001b[0;36mprocessData\u001b[1;34m(texts, verbose)\u001b[0m\n\u001b[0;32m     11\u001b[0m         \u001b[0mprint\u001b[0m\u001b[1;33m(\u001b[0m\u001b[1;34m\"Transform to dataset\"\u001b[0m\u001b[1;33m)\u001b[0m\u001b[1;33m\u001b[0m\u001b[0m\n\u001b[0;32m     12\u001b[0m \u001b[1;33m\u001b[0m\u001b[0m\n\u001b[1;32m---> 13\u001b[1;33m     \u001b[0mX_data\u001b[0m\u001b[1;33m,\u001b[0m \u001b[0my_data\u001b[0m \u001b[1;33m=\u001b[0m \u001b[0mtransform_to_dataset\u001b[0m\u001b[1;33m(\u001b[0m\u001b[0mtexts\u001b[0m\u001b[1;33m)\u001b[0m\u001b[1;33m\u001b[0m\u001b[0m\n\u001b[0m\u001b[0;32m     14\u001b[0m \u001b[1;33m\u001b[0m\u001b[0m\n\u001b[0;32m     15\u001b[0m     \u001b[1;32mif\u001b[0m \u001b[0mverbose\u001b[0m\u001b[1;33m:\u001b[0m\u001b[1;33m\u001b[0m\u001b[0m\n",
      "\u001b[1;32m<ipython-input-12-19168f8974b8>\u001b[0m in \u001b[0;36mtransform_to_dataset\u001b[1;34m(labeled_texts)\u001b[0m\n\u001b[0;32m     40\u001b[0m     \u001b[1;32mfor\u001b[0m \u001b[0mtext_sentiment\u001b[0m \u001b[1;32min\u001b[0m \u001b[0mlabeled_texts\u001b[0m\u001b[1;33m:\u001b[0m\u001b[1;33m\u001b[0m\u001b[0m\n\u001b[0;32m     41\u001b[0m         \u001b[1;31m# Add basic NLP features for each text\u001b[0m\u001b[1;33m\u001b[0m\u001b[1;33m\u001b[0m\u001b[0m\n\u001b[1;32m---> 42\u001b[1;33m         \u001b[0mX\u001b[0m\u001b[1;33m.\u001b[0m\u001b[0mappend\u001b[0m\u001b[1;33m(\u001b[0m\u001b[0madd_basic_features\u001b[0m\u001b[1;33m(\u001b[0m\u001b[0mtext_sentiment\u001b[0m\u001b[1;33m[\u001b[0m\u001b[1;36m0\u001b[0m\u001b[1;33m]\u001b[0m\u001b[1;33m)\u001b[0m\u001b[1;33m)\u001b[0m\u001b[1;33m\u001b[0m\u001b[0m\n\u001b[0m\u001b[0;32m     43\u001b[0m         \u001b[0my\u001b[0m\u001b[1;33m.\u001b[0m\u001b[0mappend\u001b[0m\u001b[1;33m(\u001b[0m\u001b[0mtext_sentiment\u001b[0m\u001b[1;33m[\u001b[0m\u001b[1;36m1\u001b[0m\u001b[1;33m]\u001b[0m\u001b[1;33m)\u001b[0m\u001b[1;33m\u001b[0m\u001b[0m\n\u001b[0;32m     44\u001b[0m     \u001b[1;32mreturn\u001b[0m \u001b[0mX\u001b[0m\u001b[1;33m,\u001b[0m \u001b[0my\u001b[0m\u001b[1;33m\u001b[0m\u001b[0m\n",
      "\u001b[1;32m<ipython-input-12-19168f8974b8>\u001b[0m in \u001b[0;36madd_basic_features\u001b[1;34m(text)\u001b[0m\n\u001b[0;32m     10\u001b[0m     \u001b[1;31m# ==== TODO: Change these from word features to full text features! ====\u001b[0m\u001b[1;33m\u001b[0m\u001b[1;33m\u001b[0m\u001b[0m\n\u001b[0;32m     11\u001b[0m     return {\n\u001b[1;32m---> 12\u001b[1;33m         \u001b[1;34m'nb_terms'\u001b[0m\u001b[1;33m:\u001b[0m \u001b[0mlen\u001b[0m\u001b[1;33m(\u001b[0m\u001b[0msentence_terms\u001b[0m\u001b[1;33m)\u001b[0m\u001b[1;33m,\u001b[0m\u001b[1;33m\u001b[0m\u001b[0m\n\u001b[0m\u001b[0;32m     13\u001b[0m         \u001b[1;34m'term'\u001b[0m\u001b[1;33m:\u001b[0m \u001b[0mterm\u001b[0m\u001b[1;33m,\u001b[0m\u001b[1;33m\u001b[0m\u001b[0m\n\u001b[0;32m     14\u001b[0m         \u001b[1;34m'is_first'\u001b[0m\u001b[1;33m:\u001b[0m \u001b[0mindex\u001b[0m \u001b[1;33m==\u001b[0m \u001b[1;36m0\u001b[0m\u001b[1;33m,\u001b[0m\u001b[1;33m\u001b[0m\u001b[0m\n",
      "\u001b[1;31mNameError\u001b[0m: name 'sentence_terms' is not defined"
     ]
    }
   ],
   "source": [
    "train_data_filename = \"./data/english/twitter-2016train-A.txt\"\n",
    "test_data_filename = \"./data/english/twitter-2016test-A.txt\"\n",
    "\n",
    "data_raw = []\n",
    "\n",
    "num_train = 0\n",
    "num_test = 0\n",
    "\n",
    "with open(train_data_filename, 'r') as file:\n",
    "    for line in file:\n",
    "        if len(line) > 3:\n",
    "            data_raw.append(line)\n",
    "            num_train += 1\n",
    "        \n",
    "with open(test_data_filename, 'r') as file:\n",
    "    for line in file:\n",
    "        if len(line) > 3:\n",
    "            data_raw.append(line)\n",
    "            num_test += 1\n",
    "        \n",
    "data_labeled = identify_labels(data_raw)\n",
    "\n",
    "assert len(data_labeled) == (num_train+num_test) , \"Data lost during labeling process: %d / %d\" % (len(data_labeled), num_train+num_test)\n",
    "\n",
    "data_X, data_y = processData(data_labeled, True)\n",
    "\n",
    "assert len(data_X)+len(data_y) == (num_train+num_test) , \"Data lost data processing. %d / %d\" % (len(data_X)+len(data_y), num_train+num_test)\n",
    "\n",
    "data = {\n",
    "  'X_train': data_X[:num_train],\n",
    "  'y_train': data_y[:num_train],\n",
    "  'X_val': data_X[num_train+1:],\n",
    "  'y_val': data[num_train+1:]\n",
    "}\n",
    "\n"
   ]
  },
  {
   "cell_type": "markdown",
   "metadata": {},
   "source": [
    "### Defining the Network"
   ]
  },
  {
   "cell_type": "markdown",
   "metadata": {},
   "source": [
    "*(sfrees) Reference: Much of the code in network.py and layers.py was implemented by Stephen in a Deep Learning assigment*"
   ]
  },
  {
   "cell_type": "code",
   "execution_count": null,
   "metadata": {},
   "outputs": [],
   "source": [
    "from src.network import *\n",
    "from src.layers import *\n",
    "\n",
    "hidden_dims = [100, 100, 100, 100, 100]\n",
    "weight_scale = 2e-2\n",
    "\n",
    "model = FullyConnectedNet(hidden_dims, weight_scale=weight_scale, normalization=None)"
   ]
  },
  {
   "cell_type": "markdown",
   "metadata": {},
   "source": [
    "### Training the Network"
   ]
  },
  {
   "cell_type": "markdown",
   "metadata": {},
   "source": [
    "*(sfrees) Reference: solver.py and optim.py were taken from a Deep Learning assigment, and only a few lines of code were written by Stephen.*"
   ]
  },
  {
   "cell_type": "code",
   "execution_count": null,
   "metadata": {},
   "outputs": [],
   "source": [
    "solver = Solver(model, data,\n",
    "                num_epochs=10, batch_size=50,\n",
    "                update_rule='adam',\n",
    "                optim_config={\n",
    "                  'learning_rate': 1e-3,\n",
    "                },\n",
    "                verbose=True,print_every=20)\n",
    "bn_solver.train()"
   ]
  },
  {
   "cell_type": "markdown",
   "metadata": {},
   "source": [
    "### Testing the Network"
   ]
  },
  {
   "cell_type": "code",
   "execution_count": null,
   "metadata": {},
   "outputs": [],
   "source": []
  }
 ],
 "metadata": {
  "kernelspec": {
   "display_name": "Python 3",
   "language": "python",
   "name": "python3"
  },
  "language_info": {
   "codemirror_mode": {
    "name": "ipython",
    "version": 3
   },
   "file_extension": ".py",
   "mimetype": "text/x-python",
   "name": "python",
   "nbconvert_exporter": "python",
   "pygments_lexer": "ipython3",
   "version": "3.6.5"
  }
 },
 "nbformat": 4,
 "nbformat_minor": 2
}
